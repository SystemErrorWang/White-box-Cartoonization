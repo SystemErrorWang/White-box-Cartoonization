{
  "nbformat": 4,
  "nbformat_minor": 0,
  "metadata": {
    "colab": {
      "name": "White-box-Cartoonization.ipynb",
      "provenance": [],
      "private_outputs": true
    },
    "kernelspec": {
      "name": "python3",
      "display_name": "Python 3"
    },
    "accelerator": "GPU"
  },
  "cells": [
    {
      "cell_type": "code",
      "metadata": {
        "id": "zoqDYt68QDXB",
        "colab_type": "code",
        "colab": {}
      },
      "source": [
        "%tensorflow_version 1.x"
      ],
      "execution_count": null,
      "outputs": []
    },
    {
      "cell_type": "code",
      "metadata": {
        "id": "3csEBx1mQMVh",
        "colab_type": "code",
        "colab": {}
      },
      "source": [
        "!git clone https://github.com/SystemErrorWang/White-box-Cartoonization.git"
      ],
      "execution_count": null,
      "outputs": []
    },
    {
      "cell_type": "code",
      "metadata": {
        "id": "3D-pcbryQVfP",
        "colab_type": "code",
        "colab": {}
      },
      "source": [
        "%cd White-box-Cartoonization"
      ],
      "execution_count": null,
      "outputs": []
    },
    {
      "cell_type": "code",
      "metadata": {
        "id": "16sKnuCeTLqW",
        "colab_type": "code",
        "colab": {}
      },
      "source": [
        "%cd test_code/"
      ],
      "execution_count": null,
      "outputs": []
    },
    {
      "cell_type": "code",
      "metadata": {
        "id": "16_kqwyyQf5z",
        "colab_type": "code",
        "colab": {}
      },
      "source": [
        "!python cartoonize.py"
      ],
      "execution_count": null,
      "outputs": []
    },
    {
      "cell_type": "code",
      "metadata": {
        "id": "aZ3vBYikTwpW",
        "colab_type": "code",
        "colab": {}
      },
      "source": [
        "from google.colab.patches import cv2_imshow\n",
        "import cv2\n",
        "import glob\n",
        "\n",
        "for i in glob.glob('cartoonized_images/*.jpg'):\n",
        "  img = cv2.imread(i, cv2.IMREAD_UNCHANGED)\n",
        "  cv2_imshow(img)"
      ],
      "execution_count": null,
      "outputs": []
    }
  ]
}